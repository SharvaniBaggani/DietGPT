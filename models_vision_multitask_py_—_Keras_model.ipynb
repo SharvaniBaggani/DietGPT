{
  "nbformat": 4,
  "nbformat_minor": 0,
  "metadata": {
    "colab": {
      "provenance": [],
      "authorship_tag": "ABX9TyOcaJB9ppo5X8dEj0QM3gAq",
      "include_colab_link": true
    },
    "kernelspec": {
      "name": "python3",
      "display_name": "Python 3"
    },
    "language_info": {
      "name": "python"
    }
  },
  "cells": [
    {
      "cell_type": "markdown",
      "metadata": {
        "id": "view-in-github",
        "colab_type": "text"
      },
      "source": [
        "<a href=\"https://colab.research.google.com/github/SharvaniBaggani/DietGPT/blob/main/models_vision_multitask_py_%E2%80%94_Keras_model.ipynb\" target=\"_parent\"><img src=\"https://colab.research.google.com/assets/colab-badge.svg\" alt=\"Open In Colab\"/></a>"
      ]
    },
    {
      "cell_type": "code",
      "execution_count": 1,
      "metadata": {
        "id": "yUHLvJXzOXlJ"
      },
      "outputs": [],
      "source": [
        "# models/vision_multitask.py\n",
        "import tensorflow as tf\n",
        "from tensorflow.keras import layers, Model\n",
        "\n",
        "def build_multitask_model(input_shape=(224,224,3), backbone_name='MobileNetV2'):\n",
        "    inp = layers.Input(shape=input_shape)\n",
        "\n",
        "    # Pretrained backbone\n",
        "    if backbone_name == 'MobileNetV2':\n",
        "        backbone = tf.keras.applications.MobileNetV2(include_top=False, input_tensor=inp, weights='imagenet')\n",
        "        x = backbone.output\n",
        "        x = layers.GlobalAveragePooling2D()(x)\n",
        "    else:\n",
        "        backbone = tf.keras.applications.ResNet50(include_top=False, input_tensor=inp, weights='imagenet')\n",
        "        x = backbone.output\n",
        "        x = layers.GlobalAveragePooling2D()(x)\n",
        "\n",
        "    # Common dense\n",
        "    x = layers.Dense(512, activation='relu')(x)\n",
        "    x = layers.Dropout(0.3)(x)\n",
        "\n",
        "    # BMI head - regression\n",
        "    bmi_x = layers.Dense(128, activation='relu')(x)\n",
        "    bmi_out = layers.Dense(1, name='bmi')(bmi_x)  # linear\n",
        "\n",
        "    # Stress head - classification (3 classes: low, medium, high)\n",
        "    stress_x = layers.Dense(128, activation='relu')(x)\n",
        "    stress_out = layers.Dense(3, activation='softmax', name='stress')\n",
        "\n",
        "    # Sleepiness - classification (3 classes)\n",
        "    sleep_x = layers.Dense(128, activation='relu')(x)\n",
        "    sleep_out = layers.Dense(3, activation='softmax', name='sleep')\n",
        "\n",
        "    model = Model(inputs=inp, outputs=[bmi_out, stress_out, sleep_out])\n",
        "    return model\n",
        "\n",
        "# compile example\n",
        "# model = build_multitask_model()\n",
        "# losses = {'bmi': 'mse', 'stress': 'categorical_crossentropy', 'sleep': 'categorical_crossentropy'}\n",
        "# model.compile(optimizer='adam', loss=losses, metrics={'bmi': 'mae', 'stress': 'accuracy', 'sleep': 'accuracy'})\n"
      ]
    }
  ]
}